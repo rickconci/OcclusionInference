{
 "cells": [
  {
   "cell_type": "code",
   "execution_count": 3,
   "metadata": {},
   "outputs": [],
   "source": [
    "import numpy as np\n",
    "import torch"
   ]
  },
  {
   "cell_type": "code",
   "execution_count": 73,
   "metadata": {},
   "outputs": [],
   "source": [
    "def spatial_broadcaster(Zs, h=32, w=32):\n",
    "    z_b = np.tile(z, (h,w,1))\n",
    "    z_b = torch.from_numpy(z_b).float()\n",
    "    x = np.linspace(-1,1,w)\n",
    "    y = np.linspace(-1,1,w)\n",
    "    x_b, y_b =np.meshgrid(x,y)\n",
    "    x_b = torch.from_numpy(x_b).float()\n",
    "    x_b = torch.unsqueeze(x_b, 2)\n",
    "    y_b = torch.from_numpy(y_b).float()\n",
    "    y_b = torch.unsqueeze(y_b, 2)\n",
    "    z_sb = torch.cat((z_b, x_b,y_b), -1)\n",
    "    return(z_sb)"
   ]
  }
 ],
 "metadata": {
  "kernelspec": {
   "display_name": "Python 3",
   "language": "python",
   "name": "python3"
  },
  "language_info": {
   "codemirror_mode": {
    "name": "ipython",
    "version": 3
   },
   "file_extension": ".py",
   "mimetype": "text/x-python",
   "name": "python",
   "nbconvert_exporter": "python",
   "pygments_lexer": "ipython3",
   "version": "3.7.3"
  }
 },
 "nbformat": 4,
 "nbformat_minor": 2
}
