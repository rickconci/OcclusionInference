{
 "cells": [
  {
   "cell_type": "code",
   "execution_count": 85,
   "metadata": {},
   "outputs": [],
   "source": [
    "\n",
    "\n",
    "import pandas as pd\n",
    "import matplotlib.pyplot as plt\n",
    "import os\n",
    "import numpy as np \n",
    "\n",
    "%matplotlib inline\n",
    "\n",
    "csv_path = \"/Users/riccardoconci/Desktop/test_BOO/digts/digts.csv\"\n",
    "train_image_paths = \"/Users/riccardoconci/Desktop/test_BOO/digts/train/orig/\"    \n",
    "test_image_paths = \"/Users/riccardoconci/Desktop/test_BOO/digts/test/orig/\"\n",
    "train_data_size = len(os.listdir(train_image_paths))\n",
    "test_data_size = len(os.listdir(test_image_paths))\n",
    "\n",
    "train_test_type = 'train'\n",
    "\n",
    "data = pd.read_csv(csv_path, header=None)\n",
    "train_data = data.iloc[:train_data_size, :]\n",
    "test_data = data.iloc[train_data_size:, :]\n",
    "\n",
    "if train_test_type=='train':\n",
    "    digt_list_train = train_data.iloc[:, [5,21]].values.astype(int)\n",
    "    cols_train = train_data.iloc[:, [12, 32]].values/255\n",
    "    cols_train = cols_train.astype(int)\n",
    "    x_back = train_data.iloc[:, 6].values.astype(float)\n",
    "    y_back = train_data.iloc[:, 7].values.astype(float)\n",
    "    x_front = train_data.iloc[:, 22].values.astype(float)\n",
    "    y_front = train_data.iloc[:, 23].values.astype(float)\n",
    "elif train_test_type=='test':\n",
    "    digt_list_test = test_data.iloc[:, [5,21]].values.astype(int)\n",
    "    cols_test = test_data.iloc[:, [12, 32]].values/255\n",
    "    cols_test = cols_test.astype(int)\n",
    "    x_back = test_data.iloc[:, 6].values.astype(float)\n",
    "    y_back= test_data.iloc[:, 7].values.astype(float)\n",
    "    x_front = test_data.iloc[:, 22].values.astype(float)\n",
    "    y_front = test_data.iloc[:, 23].values.astype(float)\n",
    "       \n",
    "distance = np.sqrt((x_front - x_back)**2 + (y_front - y_back)**2)\n"
   ]
  },
  {
   "cell_type": "code",
   "execution_count": 86,
   "metadata": {},
   "outputs": [
    {
     "name": "stdout",
     "output_type": "stream",
     "text": [
      "8\n"
     ]
    },
    {
     "data": {
      "text/plain": [
       "0.34300557418363004"
      ]
     },
     "execution_count": 86,
     "metadata": {},
     "output_type": "execute_result"
    }
   ],
   "source": [
    "print(np.argmax(distance))\n",
    "distance[np.argmax(distance)]"
   ]
  },
  {
   "cell_type": "code",
   "execution_count": 87,
   "metadata": {},
   "outputs": [
    {
     "data": {
      "image/png": "[encoded data removed]",
      "text/plain": [
       "<Figure size 432x288 with 1 Axes>"
      ]
     },
     "metadata": {
      "needs_background": "light"
     },
     "output_type": "display_data"
    }
   ],
   "source": [
    "\n",
    "plt.hist(distance, bins=30)\n",
    "plt.ylabel('Probability');\n",
    "#plt.savefig('hist_distances.png')"
   ]
  },
  {
   "cell_type": "code",
   "execution_count": 90,
   "metadata": {},
   "outputs": [
    {
     "name": "stdout",
     "output_type": "stream",
     "text": [
      "0.21206332933808306\n"
     ]
    },
    {
     "data": {
      "text/plain": [
       "(array([ 177.,  520.,  831., 1092., 1428., 1626., 1954., 2077., 2302.,\n",
       "        2403., 2657., 2707., 2909., 3072., 2982., 3044., 3081., 3151.,\n",
       "        3213., 3215., 3150., 3240., 3107., 3103., 2976., 2830., 2825.,\n",
       "        2686., 2629., 2380., 2288., 2171., 1970., 1822., 1717., 1620.,\n",
       "        1498., 1490., 1365., 1238., 1219., 1088., 1024.,  863.,  845.,\n",
       "         794.,  694.,  609.,  528.,  486.,  376.,  303.,  240.,  157.,\n",
       "          81.,   68.,   38.,   27.,    8.,    6.]),\n",
       " array([0.00056046, 0.00981821, 0.01907597, 0.02833373, 0.03759148,\n",
       "        0.04684924, 0.05610699, 0.06536475, 0.07462251, 0.08388026,\n",
       "        0.09313802, 0.10239578, 0.11165353, 0.12091129, 0.13016904,\n",
       "        0.1394268 , 0.14868456, 0.15794231, 0.16720007, 0.17645782,\n",
       "        0.18571558, 0.19497334, 0.20423109, 0.21348885, 0.2227466 ,\n",
       "        0.23200436, 0.24126212, 0.25051987, 0.25977763, 0.26903538,\n",
       "        0.27829314, 0.2875509 , 0.29680865, 0.30606641, 0.31532416,\n",
       "        0.32458192, 0.33383968, 0.34309743, 0.35235519, 0.36161294,\n",
       "        0.3708707 , 0.38012846, 0.38938621, 0.39864397, 0.40790172,\n",
       "        0.41715948, 0.42641724, 0.43567499, 0.44493275, 0.4541905 ,\n",
       "        0.46344826, 0.47270602, 0.48196377, 0.49122153, 0.50047928,\n",
       "        0.50973704, 0.5189948 , 0.52825255, 0.53751031, 0.54676807,\n",
       "        0.55602582]),\n",
       " <a list of 60 Patch objects>)"
      ]
     },
     "execution_count": 90,
     "metadata": {},
     "output_type": "execute_result"
    },
    {
     "data": {
      "image/png": "[encoded data removed]",
      "text/plain": [
       "<Figure size 432x288 with 1 Axes>"
      ]
     },
     "metadata": {
      "needs_background": "light"
     },
     "output_type": "display_data"
    }
   ],
   "source": [
    "offset_mean =  (0, 0)\n",
    "offset_cov = ((-0.25, 0.25), (-0.15, 0.15))\n",
    "distance = []\n",
    "for i in range(100000):\n",
    "    x_offset1 = offset_mean[0] + np.random.uniform(offset_cov[0][0],offset_cov[0][1])\n",
    "    y_offset1 = offset_mean[1] + np.random.uniform(offset_cov[1][0], offset_cov[1][1])\n",
    "    x_offset2 = offset_mean[0] + np.random.uniform(offset_cov[0][0],offset_cov[0][1])\n",
    "    y_offset2 = offset_mean[1] + np.random.uniform(offset_cov[1][0], offset_cov[1][1])\n",
    "    distance.append( np.sqrt((x_offset1 - x_offset2)**2 + (y_offset1 - y_offset2)**2))\n",
    "print(np.mean(distance))\n",
    "plt.hist(distance, bins=60)"
   ]
  },
  {
   "cell_type": "code",
   "execution_count": null,
   "metadata": {},
   "outputs": [],
   "source": []
  },
  {
   "cell_type": "code",
   "execution_count": null,
   "metadata": {},
   "outputs": [],
   "source": []
  }
 ],
 "metadata": {
  "kernelspec": {
   "display_name": "Python 3",
   "language": "python",
   "name": "python3"
  },
  "language_info": {
   "codemirror_mode": {
    "name": "ipython",
    "version": 3
   },
   "file_extension": ".py",
   "mimetype": "text/x-python",
   "name": "python",
   "nbconvert_exporter": "python",
   "pygments_lexer": "ipython3",
   "version": "3.7.3"
  }
 },
 "nbformat": 4,
 "nbformat_minor": 2
}
