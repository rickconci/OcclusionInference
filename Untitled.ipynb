{
 "cells": [
  {
   "cell_type": "code",
   "execution_count": 67,
   "metadata": {},
   "outputs": [],
   "source": [
    "\n",
    "\n",
    "import pandas as pd\n",
    "import matplotlib.pyplot as plt\n",
    "import os\n",
    "import numpy as np \n",
    "\n",
    "%matplotlib inline\n",
    "\n",
    "csv_path = \"/Users/riccardoconci/Desktop/test_BOO/digts/digts.csv\"\n",
    "train_image_paths = \"/Users/riccardoconci/Desktop/test_BOO/digts/train/orig/\"    \n",
    "test_image_paths = \"/Users/riccardoconci/Desktop/test_BOO/digts/test/orig/\"\n",
    "train_data_size = len(os.listdir(train_image_paths))\n",
    "test_data_size = len(os.listdir(test_image_paths))\n",
    "\n",
    "train_test_type = 'train'\n",
    "\n",
    "data = pd.read_csv(csv_path, header=None)\n",
    "train_data = data.iloc[:train_data_size, :]\n",
    "test_data = data.iloc[train_data_size:, :]\n",
    "\n",
    "if train_test_type=='train':\n",
    "    digt_list_train = train_data.iloc[:, [5,21]].values.astype(int)\n",
    "    cols_train = train_data.iloc[:, [12, 32]].values/255\n",
    "    cols_train = cols_train.astype(int)\n",
    "    x_back = train_data.iloc[:, 6].values.astype(float)\n",
    "    y_back = train_data.iloc[:, 7].values.astype(float)\n",
    "    x_front = train_data.iloc[:, 22].values.astype(float)\n",
    "    y_front = train_data.iloc[:, 23].values.astype(float)\n",
    "elif train_test_type=='test':\n",
    "    digt_list_test = test_data.iloc[:, [5,21]].values.astype(int)\n",
    "    cols_test = test_data.iloc[:, [12, 32]].values/255\n",
    "    cols_test = cols_test.astype(int)\n",
    "    x_back = test_data.iloc[:, 6].values.astype(float)\n",
    "    y_back= test_data.iloc[:, 7].values.astype(float)\n",
    "    x_front = test_data.iloc[:, 22].values.astype(float)\n",
    "    y_front = test_data.iloc[:, 23].values.astype(float)\n",
    "       \n",
    "distance = np.sqrt((x_front - x_back)**2 + (y_front - y_back)**2)\n"
   ]
  },
  {
   "cell_type": "code",
   "execution_count": 68,
   "metadata": {},
   "outputs": [
    {
     "data": {
      "text/plain": [
       "-0.0027163524780978885"
      ]
     },
     "execution_count": 68,
     "metadata": {},
     "output_type": "execute_result"
    }
   ],
   "source": [
    "y_front[38]"
   ]
  },
  {
   "cell_type": "code",
   "execution_count": 69,
   "metadata": {},
   "outputs": [
    {
     "name": "stdout",
     "output_type": "stream",
     "text": [
      "0.0\n"
     ]
    }
   ],
   "source": [
    "print(np.sum(distance > 0.24)/len(distance)*100)"
   ]
  },
  {
   "cell_type": "code",
   "execution_count": 70,
   "metadata": {},
   "outputs": [
    {
     "name": "stdout",
     "output_type": "stream",
     "text": [
      "49\n"
     ]
    },
    {
     "data": {
      "text/plain": [
       "0.2186497881173971"
      ]
     },
     "execution_count": 70,
     "metadata": {},
     "output_type": "execute_result"
    }
   ],
   "source": [
    "print(np.argmax(distance))\n",
    "distance[np.argmax(distance)]"
   ]
  },
  {
   "cell_type": "code",
   "execution_count": 71,
   "metadata": {},
   "outputs": [
    {
     "data": {
      "image/png": "[encoded data removed]",
      "text/plain": [
       "<Figure size 432x288 with 1 Axes>"
      ]
     },
     "metadata": {
      "needs_background": "light"
     },
     "output_type": "display_data"
    }
   ],
   "source": [
    "\n",
    "plt.hist(distance, bins=30)\n",
    "plt.ylabel('Probability');\n",
    "#plt.savefig('hist_distances.png')"
   ]
  },
  {
   "cell_type": "code",
   "execution_count": 73,
   "metadata": {},
   "outputs": [
    {
     "name": "stdout",
     "output_type": "stream",
     "text": [
      "0.2858743346294321\n"
     ]
    },
    {
     "data": {
      "text/plain": [
       "(array([1.600e+02, 5.080e+02, 8.480e+02, 1.090e+03, 1.313e+03, 1.561e+03,\n",
       "        1.812e+03, 2.045e+03, 2.198e+03, 2.405e+03, 2.554e+03, 2.705e+03,\n",
       "        2.714e+03, 2.816e+03, 3.011e+03, 3.132e+03, 3.127e+03, 3.172e+03,\n",
       "        3.195e+03, 3.270e+03, 3.249e+03, 3.196e+03, 3.051e+03, 3.185e+03,\n",
       "        3.180e+03, 3.136e+03, 3.047e+03, 2.996e+03, 2.844e+03, 2.837e+03,\n",
       "        2.542e+03, 2.526e+03, 2.475e+03, 2.282e+03, 2.168e+03, 1.985e+03,\n",
       "        1.847e+03, 1.672e+03, 1.550e+03, 1.271e+03, 1.113e+03, 9.090e+02,\n",
       "        8.120e+02, 5.930e+02, 4.390e+02, 3.800e+02, 2.790e+02, 2.190e+02,\n",
       "        1.700e+02, 1.360e+02, 8.400e+01, 6.200e+01, 4.800e+01, 4.000e+01,\n",
       "        2.000e+01, 1.200e+01, 6.000e+00, 2.000e+00, 0.000e+00, 1.000e+00]),\n",
       " array([0.00032601, 0.00508515, 0.00984429, 0.01460343, 0.01936257,\n",
       "        0.02412171, 0.02888085, 0.03363998, 0.03839912, 0.04315826,\n",
       "        0.0479174 , 0.05267654, 0.05743568, 0.06219482, 0.06695395,\n",
       "        0.07171309, 0.07647223, 0.08123137, 0.08599051, 0.09074965,\n",
       "        0.09550879, 0.10026793, 0.10502706, 0.1097862 , 0.11454534,\n",
       "        0.11930448, 0.12406362, 0.12882276, 0.1335819 , 0.13834104,\n",
       "        0.14310017, 0.14785931, 0.15261845, 0.15737759, 0.16213673,\n",
       "        0.16689587, 0.17165501, 0.17641414, 0.18117328, 0.18593242,\n",
       "        0.19069156, 0.1954507 , 0.20020984, 0.20496898, 0.20972812,\n",
       "        0.21448725, 0.21924639, 0.22400553, 0.22876467, 0.23352381,\n",
       "        0.23828295, 0.24304209, 0.24780123, 0.25256036, 0.2573195 ,\n",
       "        0.26207864, 0.26683778, 0.27159692, 0.27635606, 0.2811152 ,\n",
       "        0.28587433]),\n",
       " <a list of 60 Patch objects>)"
      ]
     },
     "execution_count": 73,
     "metadata": {},
     "output_type": "execute_result"
    },
    {
     "data": {
      "image/png": "[encoded data removed]",
      "text/plain": [
       "<Figure size 432x288 with 1 Axes>"
      ]
     },
     "metadata": {
      "needs_background": "light"
     },
     "output_type": "display_data"
    }
   ],
   "source": [
    "offset_mean =  (0, 0)\n",
    "offset_cov = ((-0.10, 0.10), (-0.01, 0.20))\n",
    "distance = []\n",
    "for i in range(100000):\n",
    "    x_offset1 = offset_mean[0] + np.random.uniform(offset_cov[0][0],offset_cov[0][1])\n",
    "    y_offset1 = offset_mean[1] + np.random.uniform(offset_cov[1][0], offset_cov[1][1])\n",
    "    x_offset2 = offset_mean[0] + np.random.uniform(offset_cov[0][0],offset_cov[0][1])\n",
    "    y_offset2 = offset_mean[1] + np.random.uniform(offset_cov[1][0], offset_cov[1][1])\n",
    "    distance.append( np.sqrt((x_offset1 - x_offset2)**2 + (y_offset1 - y_offset2)**2))\n",
    "print(max(distance))\n",
    "plt.hist(distance, bins=60)"
   ]
  },
  {
   "cell_type": "code",
   "execution_count": null,
   "metadata": {},
   "outputs": [],
   "source": []
  },
  {
   "cell_type": "code",
   "execution_count": null,
   "metadata": {},
   "outputs": [],
   "source": []
  }
 ],
 "metadata": {
  "kernelspec": {
   "display_name": "Python 3",
   "language": "python",
   "name": "python3"
  },
  "language_info": {
   "codemirror_mode": {
    "name": "ipython",
    "version": 3
   },
   "file_extension": ".py",
   "mimetype": "text/x-python",
   "name": "python",
   "nbconvert_exporter": "python",
   "pygments_lexer": "ipython3",
   "version": "3.7.3"
  }
 },
 "nbformat": 4,
 "nbformat_minor": 2
}
