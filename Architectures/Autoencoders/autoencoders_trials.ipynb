{
 "cells": [
  {
   "cell_type": "code",
   "execution_count": 169,
   "metadata": {},
   "outputs": [],
   "source": [
    "import pickle\n",
    "import matplotlib.pyplot as plt\n",
    "import numpy as np"
   ]
  },
  {
   "cell_type": "code",
   "execution_count": 170,
   "metadata": {},
   "outputs": [],
   "source": [
    "FILENAME = \"/Volumes/RCONCI/2 digits colours/\""
   ]
  },
  {
   "cell_type": "code",
   "execution_count": 171,
   "metadata": {},
   "outputs": [],
   "source": [
    "fulldatasize = int(images_dict[\"images\"].shape[0]/2)\n",
    "training_size = int(fulldatasize*0.99)\n",
    "test_size = int(fulldatasize - training_size)"
   ]
  },
  {
   "cell_type": "markdown",
   "metadata": {},
   "source": [
    "#### transform bmp with torch and then parse into training and test set (slow)"
   ]
  },
  {
   "cell_type": "code",
   "execution_count": 9,
   "metadata": {},
   "outputs": [],
   "source": [
    "import torch\n",
    "from torch.utils.data import Dataset, DataLoader\n",
    "from torchvision.datasets import ImageFolder\n",
    "from torchvision import transforms\n",
    "root = \"/Volumes/RCONCI/2 digits fixed offset\"\n",
    "image_size = 64\n",
    "transform = transforms.Compose([\n",
    "    transforms.Resize((image_size, image_size)),\n",
    "    transforms.Grayscale(),\n",
    "    transforms.ToTensor(),])\n",
    "train_kwargs = {'root':root, 'transform':transform}\n",
    "dset = ImageFolder\n",
    "train_data = dset(**train_kwargs)\n",
    "\n",
    "x_train = np.ndarray((training_size, 64, 64))\n",
    "for i in range(training_size):\n",
    "    x_train[i,:,:] = train_data.__getitem__(i)[0][0,:,:].numpy()\n",
    "    if i%1000 ==0:\n",
    "        print(i)\n",
    "\n",
    "        y_train = np.ndarray((training_size, 64, 64))\n",
    "for i in range(10000+training_size):\n",
    "    y_train[i,:,:] = train_data.__getitem__(i)[0][0,:,:].numpy()\n",
    "    if i%1000 ==0:\n",
    "        print(i)"
   ]
  },
  {
   "cell_type": "markdown",
   "metadata": {},
   "source": [
    "#### transform with scipy and parse intro training and test set (bug)"
   ]
  },
  {
   "cell_type": "code",
   "execution_count": 114,
   "metadata": {},
   "outputs": [],
   "source": [
    "import os\n",
    "import imageio\n",
    "from skimage import data, color\n",
    "from skimage.transform import rescale, resize, downscale_local_mean\n",
    "\n",
    "root = \"/Volumes/RCONCI/2 digits fixed offset\"\n",
    "x_train = np.ndarray((training_size, 64, 64))\n",
    "\n",
    "#for i in range(10):\n",
    "#    path = os.path.join('imageio:'+ root + '/test/orig/orig_{}.bmp'.format(i) )\n",
    "#    images = imageio.imread(path, as_gray=1)\n",
    "#    x_train[i,:,:] = resize(image, (64, 64), anti_aliasing=True)\n",
    "    "
   ]
  },
  {
   "cell_type": "markdown",
   "metadata": {},
   "source": [
    "#### import already transformed images with pickle and convert to training and test (fast)"
   ]
  },
  {
   "cell_type": "code",
   "execution_count": 205,
   "metadata": {},
   "outputs": [
    {
     "name": "stdout",
     "output_type": "stream",
     "text": [
      "(9900, 60, 60, 1)\n",
      "(9900, 60, 60, 1)\n",
      "(100, 60, 60, 1)\n",
      "(100, 60, 60, 1)\n"
     ]
    }
   ],
   "source": [
    "images_dict = pickle.load(open( \"{}images_dict.p\".format(FILENAME), \"rb\" ) )\n",
    "x_train = images_dict[\"images\"][np.arange(0, 2*training_size, step=2),:,:,0]\n",
    "y_train = images_dict[\"images\"][np.arange(1, 2*training_size, step=2),:,:,0]\n",
    "x_test = images_dict[\"images\"][np.arange(2*training_size,2*fulldatasize, step=2),:,:,0]\n",
    "y_test = images_dict[\"images\"][np.arange(2*training_size+1, 2*fulldatasize, step=2),:,:,0]\n",
    "\n",
    "x_train = x_train/x_train[0].max()\n",
    "y_train = y_train/y_train[0].max()\n",
    "x_test = x_test/x_test[0].max()\n",
    "y_test = y_test/y_test[0].max()\n",
    "\n",
    "x_train = np.expand_dims(x_train,3)\n",
    "y_train = np.expand_dims(y_train,3)\n",
    "x_test = np.expand_dims(x_test,3)\n",
    "y_test =np.expand_dims(y_test,3)\n",
    "\n",
    "print(x_train.shape)\n",
    "print(y_train.shape)\n",
    "print(x_test.shape)\n",
    "print(y_test.shape)\n"
   ]
  },
  {
   "cell_type": "markdown",
   "metadata": {},
   "source": [
    "### Deep autoencoder"
   ]
  },
  {
   "cell_type": "code",
   "execution_count": 206,
   "metadata": {},
   "outputs": [
    {
     "name": "stdout",
     "output_type": "stream",
     "text": [
      "(9900, 3600)\n",
      "(9900, 3600)\n",
      "(100, 3600)\n",
      "(100, 3600)\n"
     ]
    }
   ],
   "source": [
    "x_train = x_train.reshape(-1, 60*60)\n",
    "y_train = y_train.reshape(-1, 60*60)\n",
    "x_test = x_test.reshape(-1, 60*60)\n",
    "y_test = y_test.reshape(-1, 60*60)\n",
    "print(x_train.shape)\n",
    "print(y_train.shape)\n",
    "print(x_test.shape)\n",
    "print(y_test.shape)\n"
   ]
  },
  {
   "cell_type": "code",
   "execution_count": 211,
   "metadata": {},
   "outputs": [
    {
     "data": {
      "text/plain": [
       "128"
      ]
     },
     "execution_count": 211,
     "metadata": {},
     "output_type": "execute_result"
    }
   ],
   "source": [
    "2**"
   ]
  },
  {
   "cell_type": "code",
   "execution_count": null,
   "metadata": {},
   "outputs": [],
   "source": [
    "z_dim=20\n",
    "\n",
    "input_img = Input(shape=(3600,))\n",
    "encoded = Dense(2**11, activation='relu')(input_img)\n",
    "encoded = Dense(2**10, activation='relu')(encoded)\n",
    "encoded = Dense(2**9, activation='relu')(encoded)\n",
    "encoded = Dense(2**8, activation='relu')(encoded)\n",
    "encoded = Dense(z_dim, activation='relu')(encoded)\n",
    "\n",
    "decoded = Dense(2**8, activation='relu')(encoded)\n",
    "decoded = Dense(2**9, activation='relu')(decoded)\n",
    "decoded = Dense(2**10, activation='relu')(decoded)\n",
    "decoded = Dense(2**11, activation='relu')(decoded)\n",
    "decoded = Dense(3600, activation='sigmoid')(decoded)\n"
   ]
  },
  {
   "cell_type": "code",
   "execution_count": null,
   "metadata": {},
   "outputs": [],
   "source": [
    "autoencoder = Model(input_img, decoded)\n",
    "autoencoder.compile(optimizer='adadelta', loss='mean_squared_error')\n",
    "\n",
    "autoencoder.fit(x_train, x_train,\n",
    "                epochs=100,\n",
    "                batch_size=256,\n",
    "                shuffle=True,\n",
    "                validation_data=(x_test, x_test))"
   ]
  },
  {
   "cell_type": "markdown",
   "metadata": {},
   "source": [
    "### convolutional autoencoder"
   ]
  },
  {
   "cell_type": "code",
   "execution_count": 191,
   "metadata": {},
   "outputs": [
    {
     "name": "stdout",
     "output_type": "stream",
     "text": [
      "(?, 60, 60, 1)\n",
      "(?, 66, 66, 1)\n",
      "(?, 32, 32, 32)\n",
      "(?, 16, 16, 32)\n",
      "(?, 8, 8, 32)\n",
      "(?, 4, 4, 32)\n",
      "(?, ?, 512)\n",
      "(?, 1, 256)\n",
      "(?, 1, 20)\n",
      "(?, 1, 256)\n",
      "(?, 1, 512)\n",
      "(?, 4, 4, 32)\n",
      "(?, ?, ?, 32)\n",
      "(?, ?, ?, 32)\n",
      "(?, ?, ?, 32)\n",
      "(?, ?, ?, 32)\n"
     ]
    }
   ],
   "source": [
    "from keras.layers import Input, Dense, Conv2D, MaxPooling2D, UpSampling2D, ZeroPadding2D, Reshape, Conv2DTranspose\n",
    "from keras.models import Model\n",
    "from keras import backend as K\n",
    "\n",
    "z_dims = 10\n",
    "    \n",
    "input_img = Input(shape=(60, 60, 1))  # adapt this if using `channels_first` image data format\n",
    "print(input_img.shape)\n",
    "x = ZeroPadding2D(padding=(3, 3), data_format=\"channels_last\")(input_img)\n",
    "print(x.shape)\n",
    "x = Conv2D(32, kernel_size=4, strides=2, activation='relu', padding=('valid'))(x) # B,  32, 32, 32\n",
    "print(x.shape)\n",
    "x = ZeroPadding2D(padding=(1, 1), data_format=\"channels_last\")(x)\n",
    "x = Conv2D(32, kernel_size=4, strides=2, activation='relu', padding=('valid'))(x) # B,  32, 16, 16\n",
    "print(x.shape)\n",
    "x = ZeroPadding2D(padding=(1, 1), data_format=\"channels_last\")(x)\n",
    "x = Conv2D(32, kernel_size=4, strides=2, activation='relu', padding=('valid'))(x) # B,  32,  8,  8\n",
    "print(x.shape)\n",
    "x = ZeroPadding2D(padding=(1, 1), data_format=\"channels_last\")(x)\n",
    "x = Conv2D(32, kernel_size=4, strides=2, activation='relu', padding=('valid'))(x) # B,  32,  4,  4\n",
    "print(x.shape)\n",
    "x = Reshape((-1, 32*4*4))(x) ## B, 512\n",
    "print(x.shape)\n",
    "x = Dense(2**8, activation='relu')(x) ## 256\n",
    "print(x.shape)\n",
    "encoded = Dense(z_dims*2, activation='relu')(x) ##2*z_dims\n",
    "print(encoded.shape)\n",
    "\n",
    "# at this point the representation is (z_dims *2)\n",
    "\n",
    "x = Dense(2**8, activation='relu')(encoded) ## 256\n",
    "print(x.shape)\n",
    "x = Dense(512, activation='relu')(x) ## 512\n",
    "print(x.shape)\n",
    "x = Reshape((4, 4, 32))(x)   # B,  32,  4,  4\n",
    "print(x.shape)\n",
    "x = ZeroPadding2D(padding=(1, 1), data_format=\"channels_last\")(x)\n",
    "x = Conv2DTranspose(32, kernel_size=4, strides=2, activation='relu', padding=('valid'))(x) # B,  32,  8,  8\n",
    "print(x.shape)\n",
    "x = ZeroPadding2D(padding=(1, 1), data_format=\"channels_last\")(x)\n",
    "x = Conv2DTranspose(32, kernel_size=4, strides=2, activation='relu', padding=('valid'), )(x) # B,  32, 16, 16\n",
    "print(x.shape)\n",
    "x = ZeroPadding2D(padding=(1, 1), data_format=\"channels_last\")(x)\n",
    "x = Conv2DTranspose(32, kernel_size=4, strides=2, activation='relu', padding=('valid'))(x) # B,  32, 32, 32\n",
    "print(x.shape)\n",
    "x = ZeroPadding2D(padding=(3, 3), data_format=\"channels_last\")(x)\n",
    "decoded = Conv2DTranspose(32, kernel_size=4, strides=2, activation='sigmoid', padding=('valid'))(x) # B,  nc, 64, 64\n",
    "print(decoded.shape)\n",
    "\n",
    "\n",
    "autoencoder = Model(input_img, decoded)\n",
    "autoencoder.compile(optimizer='adadelta', loss='mean_squared_error')"
   ]
  },
  {
   "cell_type": "code",
   "execution_count": 192,
   "metadata": {},
   "outputs": [
    {
     "ename": "ValueError",
     "evalue": "Error when checking target: expected conv2d_transpose_41 to have shape (162, 162, 32) but got array with shape (60, 60, 1)",
     "output_type": "error",
     "traceback": [
      "\u001b[0;31m---------------------------------------------------------------------------\u001b[0m",
      "\u001b[0;31mValueError\u001b[0m                                Traceback (most recent call last)",
      "\u001b[0;32m<ipython-input-192-ef8f90e4a1f0>\u001b[0m in \u001b[0;36m<module>\u001b[0;34m\u001b[0m\n\u001b[1;32m      3\u001b[0m                 \u001b[0mbatch_size\u001b[0m\u001b[0;34m=\u001b[0m\u001b[0;36m128\u001b[0m\u001b[0;34m,\u001b[0m\u001b[0;34m\u001b[0m\u001b[0;34m\u001b[0m\u001b[0m\n\u001b[1;32m      4\u001b[0m                 \u001b[0mshuffle\u001b[0m\u001b[0;34m=\u001b[0m\u001b[0;32mTrue\u001b[0m\u001b[0;34m,\u001b[0m\u001b[0;34m\u001b[0m\u001b[0;34m\u001b[0m\u001b[0m\n\u001b[0;32m----> 5\u001b[0;31m                 validation_data=(x_test, y_test))\n\u001b[0m",
      "\u001b[0;32m~/anaconda3/envs/compneuro/lib/python3.7/site-packages/keras/engine/training.py\u001b[0m in \u001b[0;36mfit\u001b[0;34m(self, x, y, batch_size, epochs, verbose, callbacks, validation_split, validation_data, shuffle, class_weight, sample_weight, initial_epoch, steps_per_epoch, validation_steps, **kwargs)\u001b[0m\n\u001b[1;32m    950\u001b[0m             \u001b[0msample_weight\u001b[0m\u001b[0;34m=\u001b[0m\u001b[0msample_weight\u001b[0m\u001b[0;34m,\u001b[0m\u001b[0;34m\u001b[0m\u001b[0;34m\u001b[0m\u001b[0m\n\u001b[1;32m    951\u001b[0m             \u001b[0mclass_weight\u001b[0m\u001b[0;34m=\u001b[0m\u001b[0mclass_weight\u001b[0m\u001b[0;34m,\u001b[0m\u001b[0;34m\u001b[0m\u001b[0;34m\u001b[0m\u001b[0m\n\u001b[0;32m--> 952\u001b[0;31m             batch_size=batch_size)\n\u001b[0m\u001b[1;32m    953\u001b[0m         \u001b[0;31m# Prepare validation data.\u001b[0m\u001b[0;34m\u001b[0m\u001b[0;34m\u001b[0m\u001b[0;34m\u001b[0m\u001b[0m\n\u001b[1;32m    954\u001b[0m         \u001b[0mdo_validation\u001b[0m \u001b[0;34m=\u001b[0m \u001b[0;32mFalse\u001b[0m\u001b[0;34m\u001b[0m\u001b[0;34m\u001b[0m\u001b[0m\n",
      "\u001b[0;32m~/anaconda3/envs/compneuro/lib/python3.7/site-packages/keras/engine/training.py\u001b[0m in \u001b[0;36m_standardize_user_data\u001b[0;34m(self, x, y, sample_weight, class_weight, check_array_lengths, batch_size)\u001b[0m\n\u001b[1;32m    787\u001b[0m                 \u001b[0mfeed_output_shapes\u001b[0m\u001b[0;34m,\u001b[0m\u001b[0;34m\u001b[0m\u001b[0;34m\u001b[0m\u001b[0m\n\u001b[1;32m    788\u001b[0m                 \u001b[0mcheck_batch_axis\u001b[0m\u001b[0;34m=\u001b[0m\u001b[0;32mFalse\u001b[0m\u001b[0;34m,\u001b[0m  \u001b[0;31m# Don't enforce the batch size.\u001b[0m\u001b[0;34m\u001b[0m\u001b[0;34m\u001b[0m\u001b[0m\n\u001b[0;32m--> 789\u001b[0;31m                 exception_prefix='target')\n\u001b[0m\u001b[1;32m    790\u001b[0m \u001b[0;34m\u001b[0m\u001b[0m\n\u001b[1;32m    791\u001b[0m             \u001b[0;31m# Generate sample-wise weight values given the `sample_weight` and\u001b[0m\u001b[0;34m\u001b[0m\u001b[0;34m\u001b[0m\u001b[0;34m\u001b[0m\u001b[0m\n",
      "\u001b[0;32m~/anaconda3/envs/compneuro/lib/python3.7/site-packages/keras/engine/training_utils.py\u001b[0m in \u001b[0;36mstandardize_input_data\u001b[0;34m(data, names, shapes, check_batch_axis, exception_prefix)\u001b[0m\n\u001b[1;32m    136\u001b[0m                             \u001b[0;34m': expected '\u001b[0m \u001b[0;34m+\u001b[0m \u001b[0mnames\u001b[0m\u001b[0;34m[\u001b[0m\u001b[0mi\u001b[0m\u001b[0;34m]\u001b[0m \u001b[0;34m+\u001b[0m \u001b[0;34m' to have shape '\u001b[0m \u001b[0;34m+\u001b[0m\u001b[0;34m\u001b[0m\u001b[0;34m\u001b[0m\u001b[0m\n\u001b[1;32m    137\u001b[0m                             \u001b[0mstr\u001b[0m\u001b[0;34m(\u001b[0m\u001b[0mshape\u001b[0m\u001b[0;34m)\u001b[0m \u001b[0;34m+\u001b[0m \u001b[0;34m' but got array with shape '\u001b[0m \u001b[0;34m+\u001b[0m\u001b[0;34m\u001b[0m\u001b[0;34m\u001b[0m\u001b[0m\n\u001b[0;32m--> 138\u001b[0;31m                             str(data_shape))\n\u001b[0m\u001b[1;32m    139\u001b[0m     \u001b[0;32mreturn\u001b[0m \u001b[0mdata\u001b[0m\u001b[0;34m\u001b[0m\u001b[0;34m\u001b[0m\u001b[0m\n\u001b[1;32m    140\u001b[0m \u001b[0;34m\u001b[0m\u001b[0m\n",
      "\u001b[0;31mValueError\u001b[0m: Error when checking target: expected conv2d_transpose_41 to have shape (162, 162, 32) but got array with shape (60, 60, 1)"
     ]
    }
   ],
   "source": [
    "autoencoder.fit(x_train, y_train,\n",
    "                epochs=50,\n",
    "                batch_size=128,\n",
    "                shuffle=True,\n",
    "                validation_data=(x_test, y_test))"
   ]
  },
  {
   "cell_type": "code",
   "execution_count": 199,
   "metadata": {},
   "outputs": [
    {
     "data": {
      "text/plain": [
       "78"
      ]
     },
     "execution_count": 199,
     "metadata": {},
     "output_type": "execute_result"
    }
   ],
   "source": [
    "38*2+4-2"
   ]
  },
  {
   "cell_type": "code",
   "execution_count": 200,
   "metadata": {},
   "outputs": [
    {
     "data": {
      "text/plain": [
       "158"
      ]
     },
     "execution_count": 200,
     "metadata": {},
     "output_type": "execute_result"
    }
   ],
   "source": [
    "78*2+4-2"
   ]
  },
  {
   "cell_type": "code",
   "execution_count": null,
   "metadata": {},
   "outputs": [],
   "source": []
  }
 ],
 "metadata": {
  "kernelspec": {
   "display_name": "Python 3",
   "language": "python",
   "name": "python3"
  },
  "language_info": {
   "codemirror_mode": {
    "name": "ipython",
    "version": 3
   },
   "file_extension": ".py",
   "mimetype": "text/x-python",
   "name": "python",
   "nbconvert_exporter": "python",
   "pygments_lexer": "ipython3",
   "version": "3.7.3"
  }
 },
 "nbformat": 4,
 "nbformat_minor": 2
}
