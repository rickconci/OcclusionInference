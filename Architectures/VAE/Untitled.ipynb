{
 "cells": [
  {
   "cell_type": "code",
   "execution_count": 28,
   "metadata": {},
   "outputs": [
    {
     "data": {
      "text/plain": [
       "33.0"
      ]
     },
     "execution_count": 28,
     "metadata": {},
     "output_type": "execute_result"
    }
   ],
   "source": [
    "#o = 64\n",
    "i = 4\n",
    "s = 2\n",
    "k = 3\n",
    "p = ((o-1)*s +k-i)/2\n",
    "#p =0\n",
    "\n",
    "p = 1"
   ]
  },
  {
   "cell_type": "code",
   "execution_count": 26,
   "metadata": {},
   "outputs": [
    {
     "data": {
      "text/plain": [
       "15.0"
      ]
     },
     "execution_count": 26,
     "metadata": {},
     "output_type": "execute_result"
    }
   ],
   "source": [
    "o = (i + 2*p - k)/s + 1\n",
    "o"
   ]
  },
  {
   "cell_type": "code",
   "execution_count": 29,
   "metadata": {},
   "outputs": [
    {
     "data": {
      "text/plain": [
       "8"
      ]
     },
     "execution_count": 29,
     "metadata": {},
     "output_type": "execute_result"
    }
   ],
   "source": [
    "i = 4\n",
    "k = 3\n",
    "s = 2\n",
    "p = 1\n",
    "o_p = 1\n",
    "o = (i-1)*s -2*p +k + o_p\n",
    "o"
   ]
  },
  {
   "cell_type": "code",
   "execution_count": 16,
   "metadata": {},
   "outputs": [
    {
     "data": {
      "text/plain": [
       "512"
      ]
     },
     "execution_count": 16,
     "metadata": {},
     "output_type": "execute_result"
    }
   ],
   "source": [
    "32*4*4"
   ]
  },
  {
   "cell_type": "code",
   "execution_count": 17,
   "metadata": {},
   "outputs": [
    {
     "data": {
      "text/plain": [
       "256"
      ]
     },
     "execution_count": 17,
     "metadata": {},
     "output_type": "execute_result"
    }
   ],
   "source": [
    "2**8"
   ]
  },
  {
   "cell_type": "code",
   "execution_count": 31,
   "metadata": {},
   "outputs": [],
   "source": [
    "import pandas as pd"
   ]
  },
  {
   "cell_type": "code",
   "execution_count": 32,
   "metadata": {},
   "outputs": [],
   "source": [
    "csv_path = '/Users/riccardoconci/Desktop/2_dig_fixed_random_bw/digts/digts.csv'\n",
    "data = pd.read_csv(csv_path, header=None)\n",
    "train_data = data.iloc[:9800, :]\n",
    "test_data = data.iloc[9800:, :]"
   ]
  },
  {
   "cell_type": "code",
   "execution_count": 36,
   "metadata": {},
   "outputs": [
    {
     "data": {
      "text/plain": [
       "array([[1, 7],\n",
       "       [2, 6],\n",
       "       [9, 3],\n",
       "       ...,\n",
       "       [1, 3],\n",
       "       [4, 1],\n",
       "       [5, 2]])"
      ]
     },
     "execution_count": 36,
     "metadata": {},
     "output_type": "execute_result"
    }
   ],
   "source": [
    "digt_list_train = train_data.iloc[:, [5,21]].values.astype(int)\n",
    "digt_list_train"
   ]
  },
  {
   "cell_type": "code",
   "execution_count": null,
   "metadata": {},
   "outputs": [],
   "source": [
    "\n",
    "train_test_type = 'train'\n",
    "#print(self.train_test_type)\n",
    "\n",
    "if train_test_type=='train':\n",
    "    digt_list_train = train_data.iloc[:, [5,21]].values.astype(int)\n",
    "    cols_train = self.train_data.iloc[:, [12, 32]].values/255\n",
    "    self.cols_train = cols_train.astype(int)\n",
    "    self.x_back = self.train_data.iloc[:, 6].values.astype(float)\n",
    "    self.y_back = self.train_data.iloc[:, 7].values.astype(float)\n",
    "    self.x_front = self.train_data.iloc[:, 22].values.astype(float)\n",
    "    self.y_front = self.train_data.iloc[:, 23].values.astype(float)\n",
    "elif train_test_type=='test':\n",
    "    self.digt_list_test = self.test_data.iloc[:, [5,21]].values.astype(int)\n",
    "    cols_test = self.test_data.iloc[:, [12, 32]].values/255\n",
    "    self.cols_test = cols_test.astype(int)\n",
    "    self.x_back = self.test_data.iloc[:, 6].values.astype(float)\n",
    "    self.y_back= self.test_data.iloc[:, 7].values.astype(float)\n",
    "    self.x_front = self.test_data.iloc[:, 22].values.astype(float)\n",
    "    self.y_front = self.test_data.iloc[:, 23].values.astype(float)\n",
    "       \n",
    "self.distance = np.sqrt((self.x_front - self.x_back)**2 + (self.y_front - self.y_back)**2)\n",
    "    \n",
    "def joint_targets(self):\n",
    "    if self.train_test_type=='train':\n",
    "        back = self.digt_list_train[:,0]\n",
    "        front =self.digt_list_train[:,1]\n",
    "        col_back = torch.LongTensor(self.cols_train[:,0]).view(9800, -1)\n",
    "    elif self.train_test_type=='test':\n",
    "        back = self.digt_list_test[:,0]\n",
    "        front =self.digt_list_test[:,1]\n",
    "        col_back = torch.LongTensor(self.cols_test[:,0]).view(200, -1)\n",
    "        \n",
    "    n_values = np.max(back) + 1\n",
    "    back_one_hot = torch.LongTensor(np.eye(n_values)[back])\n",
    "    front_one_hot = torch.LongTensor(np.eye(n_values)[front])\n",
    "    back_front_one_hot = torch.cat((back_one_hot,front_one_hot),1)\n",
    "    col_back_front_one_hot = torch.cat((col_back, back_front_one_hot),1)\n",
    "            \n",
    "    joint_digts_id = back_one_hot + front_one_hot\n",
    "    return(joint_digts_id)\n",
    "      "
   ]
  }
 ],
 "metadata": {
  "kernelspec": {
   "display_name": "Python 3",
   "language": "python",
   "name": "python3"
  },
  "language_info": {
   "codemirror_mode": {
    "name": "ipython",
    "version": 3
   },
   "file_extension": ".py",
   "mimetype": "text/x-python",
   "name": "python",
   "nbconvert_exporter": "python",
   "pygments_lexer": "ipython3",
   "version": "3.7.3"
  }
 },
 "nbformat": 4,
 "nbformat_minor": 2
}
