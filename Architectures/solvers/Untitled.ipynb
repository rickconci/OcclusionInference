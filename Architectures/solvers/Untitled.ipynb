{
 "cells": [
  {
   "cell_type": "code",
   "execution_count": 1,
   "metadata": {},
   "outputs": [],
   "source": [
    "import pickle\n",
    "import matplotlib.pyplot as plt\n",
    "import numpy as np"
   ]
  },
  {
   "cell_type": "code",
   "execution_count": 3,
   "metadata": {},
   "outputs": [],
   "source": [
    "data = pickle.load( open( \"/Users/riccardoconci/Desktop/code/ZuckermanProject/Experiments/decoder_sup/arch/BLT/data_last.p\", \"rb\" ) )"
   ]
  },
  {
   "cell_type": "code",
   "execution_count": 4,
   "metadata": {},
   "outputs": [
    {
     "data": {
      "text/plain": [
       "{'iter': [20, 40],\n",
       " 'train_recon_loss': [tensor(84.8029, requires_grad=True),\n",
       "  tensor(81.6116, requires_grad=True)],\n",
       " 'test_recon_loss': [array(85.42575, dtype=float32),\n",
       "  array(79.75526, dtype=float32)],\n",
       " 'gnrl_recon_loss': [array(85.72965, dtype=float32),\n",
       "  array(79.59481, dtype=float32)]}"
      ]
     },
     "execution_count": 4,
     "metadata": {},
     "output_type": "execute_result"
    }
   ],
   "source": [
    "data"
   ]
  },
  {
   "cell_type": "code",
   "execution_count": 5,
   "metadata": {},
   "outputs": [],
   "source": [
    "fig_lc = plt.figure(figsize = (8,8))\n",
    "fig_lc.suptitle('Learning curves \\nNumber of trainable parameters: {}, \\nFinal training loss: {:.3f}, Final testing loss: {:.3f} , Final gnrl loss: {:.3f} '.format(\n",
    "                   323, data['train_recon_loss'][-1],\n",
    "                   data['test_recon_loss'][-1],\n",
    "                 data['gnrl_recon_loss'][-1]), fontsize=14)\n",
    "\n",
    "#plt.figure(figsize = (8,8))\n",
    "plt.subplot()\n",
    "plt.plot(data['iter'], data['train_recon_loss'], 'coral', linewidth=2.5, label = \"train reconstruction loss\")\n",
    "plt.plot(data['iter'], data['test_recon_loss'], 'seagreen', linewidth=2, label = \"test reconstruction loss\")\n",
    "plt.plot(data['iter'], data['gnrl_recon_loss'], 'dodgerblue', linewidth=2, label = \"gnrl reconstruction loss\")\n",
    "plt.xlabel(\"iterations\")\n",
    "plt.ylabel(\"loss\")\n",
    "#plt.title(\"losses\")\n",
    "plt.legend()\n",
    "plt.grid(True)\n",
    "plt.savefig('{}/Train_Test_Gnrl_loss_Curves.png'.format(\"/Users/riccardoconci/Desktop/code/ZuckermanProject/Experiments/decoder_sup/arch/BLT/\"))\n",
    "plt.close()"
   ]
  },
  {
   "cell_type": "code",
   "execution_count": null,
   "metadata": {},
   "outputs": [],
   "source": []
  }
 ],
 "metadata": {
  "kernelspec": {
   "display_name": "Python 3",
   "language": "python",
   "name": "python3"
  },
  "language_info": {
   "codemirror_mode": {
    "name": "ipython",
    "version": 3
   },
   "file_extension": ".py",
   "mimetype": "text/x-python",
   "name": "python",
   "nbconvert_exporter": "python",
   "pygments_lexer": "ipython3",
   "version": "3.7.3"
  }
 },
 "nbformat": 4,
 "nbformat_minor": 2
}
