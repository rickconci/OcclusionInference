{
 "cells": [
  {
   "cell_type": "code",
   "execution_count": 2,
   "metadata": {},
   "outputs": [],
   "source": [
    "import pickle\n",
    "import numpy as np\n",
    "import random\n",
    "from tqdm import tqdm\n",
    "\n",
    "import matplotlib.pyplot as plt\n",
    "from IPython.display import Image\n",
    "plt.rcParams['figure.figsize'] = [15, 15]\n",
    "\n",
    "import torch\n",
    "import torchvision\n",
    "import torch.nn.functional as F\n",
    "from torch.utils.data import DataLoader\n",
    "\n",
    "\n",
    "#from utils import aboutCudaDevices\n",
    "from dataset_mod import MyDataset, default_loader\n",
    "#from solver_mod import reconstruction_loss, kl_divergence, to_var\n",
    "#from model_mod import conv_VAE_32, conv_AE\n",
    "\n",
    "#from visuals_mod import traverse_z, plotsave_tests\n",
    "\n",
    "\n",
    "%matplotlib inline\n",
    "%load_ext autoreload\n",
    "%autoreload 2"
   ]
  },
  {
   "cell_type": "code",
   "execution_count": 142,
   "metadata": {},
   "outputs": [],
   "source": [
    "image_paths = \"/Users/riccardoconci/Desktop/test_img_2/digts/train/orig/\"\n",
    "target_paths = \"/Users/riccardoconci/Desktop/test_img_2/digts/train/inverse/\"\n",
    "#image_paths = \"/Users/riccardoconci/Desktop/orig/\"\n",
    "#target_paths = \"/Users/riccardoconci/Desktop/orig/\""
   ]
  },
  {
   "cell_type": "code",
   "execution_count": 143,
   "metadata": {},
   "outputs": [],
   "source": [
    "dset = MyDataset\n",
    "train_data = dset(image_paths,target_paths, image_size= 32)\n",
    "#pickle.dump( train_data, open( \"train_data.p\", \"wb\" ) )\n",
    "\n"
   ]
  },
  {
   "cell_type": "code",
   "execution_count": 150,
   "metadata": {},
   "outputs": [],
   "source": [
    "sample = train_data.__getitem__(4)"
   ]
  },
  {
   "cell_type": "code",
   "execution_count": 151,
   "metadata": {},
   "outputs": [],
   "source": [
    "sample[\"y\"][0,:,:][sample[\"y\"][0,:,:] == torch.median(sample[\"y\"][0,:,:])] = 0.5"
   ]
  },
  {
   "cell_type": "code",
   "execution_count": 152,
   "metadata": {},
   "outputs": [
    {
     "data": {
      "image/png": "[encoded data removed]",
      "text/plain": [
       "<Figure size 432x288 with 1 Axes>"
      ]
     },
     "metadata": {
      "needs_background": "light"
     },
     "output_type": "display_data"
    },
    {
     "data": {
      "image/png": "[encoded data removed]",
      "text/plain": [
       "<Figure size 432x288 with 1 Axes>"
      ]
     },
     "metadata": {
      "needs_background": "light"
     },
     "output_type": "display_data"
    }
   ],
   "source": [
    "plt.imshow(sample[\"x\"][0,:,:])\n",
    "plt.figure()\n",
    "plt.imshow(sample[\"y\"][0,:,:])\n",
    "plt.show()"
   ]
  },
  {
   "cell_type": "code",
   "execution_count": 63,
   "metadata": {},
   "outputs": [],
   "source": [
    "batch_size= 256\n",
    "num_workers = 4\n",
    "train_loader = DataLoader(train_data,\n",
    "                          batch_size=batch_size,\n",
    "                          shuffle=True,\n",
    "                          num_workers=num_workers,\n",
    "                          pin_memory=False,\n",
    "                          drop_last=False)"
   ]
  },
  {
   "cell_type": "code",
   "execution_count": 250,
   "metadata": {},
   "outputs": [],
   "source": [
    "vae = conv_VAE_32(z_dim=20 )\n",
    "optimizer = torch.optim.Adam(vae.parameters(), lr=1e-3)\n",
    "#scheduler = optim.lr_scheduler.StepLR(optimizer, step_size=10, gamma=0.1)"
   ]
  },
  {
   "cell_type": "code",
   "execution_count": 270,
   "metadata": {},
   "outputs": [],
   "source": [
    "#select train/test image to traverse \n",
    "dset_dir = \"/Users/riccardoconci/Desktop/2_dig_fixed_random_bw/digts/\"\n",
    "test_image_paths = os.path.join(dset_dir + \"test/orig/\")\n",
    "test_target_paths = os.path.join(dset_dir + \"test/inverse/\")\n",
    "image_size = 32\n",
    "dset = MyDataset\n",
    "test_data = dset(test_image_paths,test_target_paths, image_size= image_size)\n",
    "example_id = test_data.__getitem__(0)\n"
   ]
  },
  {
   "cell_type": "code",
   "execution_count": 299,
   "metadata": {},
   "outputs": [],
   "source": [
    "y_test_sample = example_id['y'].to(device)\n",
    "y_test_sample = y_test_sample.detach()"
   ]
  },
  {
   "cell_type": "code",
   "execution_count": 302,
   "metadata": {},
   "outputs": [],
   "source": [
    "torchvision.utils.save_image(y_test_sample, 'target.png')"
   ]
  },
  {
   "cell_type": "code",
   "execution_count": 303,
   "metadata": {},
   "outputs": [],
   "source": [
    "plt.imsave('target.svg',y_test_sample[0,:,:] )"
   ]
  },
  {
   "cell_type": "code",
   "execution_count": 295,
   "metadata": {},
   "outputs": [
    {
     "name": "stdout",
     "output_type": "stream",
     "text": [
      "torch.Size([1, 20])\n",
      "torch.Size([400, 20])\n"
     ]
    },
    {
     "data": {
      "text/plain": [
       "<visuals_mod.traverse_z at 0x12f92fe48>"
      ]
     },
     "execution_count": 295,
     "metadata": {},
     "output_type": "execute_result"
    }
   ],
   "source": [
    "traverse_z(vae, example_id)\n"
   ]
  },
  {
   "cell_type": "code",
   "execution_count": null,
   "metadata": {},
   "outputs": [],
   "source": []
  }
 ],
 "metadata": {
  "kernelspec": {
   "display_name": "Python 3",
   "language": "python",
   "name": "python3"
  },
  "language_info": {
   "codemirror_mode": {
    "name": "ipython",
    "version": 3
   },
   "file_extension": ".py",
   "mimetype": "text/x-python",
   "name": "python",
   "nbconvert_exporter": "python",
   "pygments_lexer": "ipython3",
   "version": "3.7.3"
  }
 },
 "nbformat": 4,
 "nbformat_minor": 2
}
